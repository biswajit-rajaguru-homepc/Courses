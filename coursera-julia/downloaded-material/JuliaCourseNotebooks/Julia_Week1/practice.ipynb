{
 "cells": [
  {
   "cell_type": "code",
   "execution_count": 1,
   "id": "151c8373-6d2e-4ab4-ae6d-5978582bbe9f",
   "metadata": {
    "tags": []
   },
   "outputs": [
    {
     "data": {
      "text/plain": [
       "2"
      ]
     },
     "execution_count": 1,
     "metadata": {},
     "output_type": "execute_result"
    }
   ],
   "source": [
    "1+1\n"
   ]
  },
  {
   "cell_type": "code",
   "execution_count": 1,
   "id": "8c1e723d-b390-4518-ac05-d2375941006f",
   "metadata": {},
   "outputs": [
    {
     "name": "stdout",
     "output_type": "stream",
     "text": [
      "Hello Dear Biswajit\n"
     ]
    }
   ],
   "source": [
    "println(\"Hello Dear Biswajit\")"
   ]
  },
  {
   "cell_type": "code",
   "execution_count": null,
   "id": "1d13ca50-9190-4d83-904f-741a9e7adf22",
   "metadata": {},
   "outputs": [],
   "source": []
  }
 ],
 "metadata": {
  "kernelspec": {
   "display_name": "Julia 1.7.3",
   "language": "julia",
   "name": "julia-1.7"
  },
  "language_info": {
   "file_extension": ".jl",
   "mimetype": "application/julia",
   "name": "julia",
   "version": "1.8.0"
  }
 },
 "nbformat": 4,
 "nbformat_minor": 5
}
